{
  "cells": [
    {
      "cell_type": "markdown",
      "metadata": {
        "id": "iwGqtVr3O08m"
      },
      "source": [
        "# Curlee-6114_Comparison-Based Sorting Algorithms \n",
        "The following notebook was created to demonstrate the implementation of some common sorting algorithms in Python. I decided to organize this into the structure of a python notebook for organizational purpose as well as for future review. "
      ]
    },
    {
      "cell_type": "markdown",
      "metadata": {
        "id": "F1pKG626Qpf0"
      },
      "source": [
        "Implement the following sorting algorithms.\n",
        "\n",
        "        Insertion sort\n",
        "        Merge sort\n",
        "        Heapsort [vector based, and insert one item at a time]\n",
        "        In-place quicksort (any random item or the first or the last item of your input can be pivot).\n",
        "        Modified quicksort\n",
        "            Use median-of-three as pivot.\n",
        "            For small sub-problem of size LaTeX: <= 8 , you must use insertion sort.\n"
      ]
    },
    {
      "cell_type": "code",
      "execution_count": 1,
      "metadata": {
        "id": "bmu8QeNlSkYY"
      },
      "outputs": [],
      "source": [
        "import time\n",
        "import timeit\n",
        "import random\n",
        "import matplotlib.pyplot as plt"
      ]
    },
    {
      "cell_type": "markdown",
      "metadata": {
        "id": "OX450SiPWRIR"
      },
      "source": [
        "#Data Setup\n",
        "I created the lists in this modular way to make easy changing values and for the purpose of simplified understanding. Each individual list is created based on the range and size indicated by the Alpha-Variables. Naming should help to keep everything organized."
      ]
    },
    {
      "cell_type": "markdown",
      "metadata": {
        "id": "hb_PuB5VUg5V"
      },
      "source": [
        "Create List Sizes"
      ]
    },
    {
      "cell_type": "code",
      "execution_count": 2,
      "metadata": {
        "id": "7CZvLDshStvV"
      },
      "outputs": [],
      "source": [
        "A = 10\n",
        "B = 50\n",
        "C = 100\n",
        "D = 500\n",
        "AA = 10000\n",
        "BB = 1000\n",
        "CC = 40000\n",
        "DD = 50000\n",
        "EE = 60000\n",
        "FF = 80000\n",
        "AAA = 100000"
      ]
    },
    {
      "cell_type": "markdown",
      "metadata": {
        "id": "Z8jugvW6Ul-Z"
      },
      "source": [
        "Create Lists For Each Size"
      ]
    },
    {
      "cell_type": "code",
      "execution_count": 3,
      "metadata": {
        "id": "KYfWmHzuUrD0"
      },
      "outputs": [],
      "source": [
        "ListA = [random.randint(1,A) for num in range(A)]\n",
        "ListB = [random.randint(1,B) for num in range(B)]\n",
        "ListC = [random.randint(1,C) for num in range(C)]\n",
        "ListD = [random.randint(1,D) for num in range(D)]\n",
        "ListAA = [random.randint(1,AA) for num in range(AA)]\n",
        "ListBB = [random.randint(1,BB) for num in range(BB)]\n",
        "ListCC = [random.randint(1,CC) for num in range(CC)]\n",
        "ListDD = [random.randint(1,DD) for num in range(DD)]\n",
        "ListEE = [random.randint(1,EE) for num in range(EE)]\n",
        "ListFF = [random.randint(1,FF) for num in range(FF)]\n",
        "ListAAA = [random.randint(1,AAA) for num in range(AAA)]\n",
        "Data = [ListA, ListB, ListC, ListD, ListBB]\n",
        "data = [A, B, C, D, BB]"
      ]
    },
    {
      "cell_type": "markdown",
      "metadata": {
        "id": "QWrMsSeKW-IN"
      },
      "source": [
        "# Sorting Algorithms"
      ]
    },
    {
      "cell_type": "markdown",
      "source": [
        "As this project was created exclusively in Python, and I was unaware of the recursion depth limitation of Python, I created both recursive and iterative versions of algorithms in some cases. All data reported is from iterative trials. Also, this notebook is less efficient than the code found at the following Git repo: https://github.com/mcurlee3/AlgorithmComparison.git. The code is identical but trials take longer in collab (and jupyter). "
      ],
      "metadata": {
        "id": "S7G4BQd7PPeO"
      }
    },
    {
      "cell_type": "markdown",
      "source": [
        ""
      ],
      "metadata": {
        "id": "YS4JqvNVQkP3"
      }
    },
    {
      "cell_type": "markdown",
      "metadata": {
        "id": "X7vLygoUXELI"
      },
      "source": [
        "## Insertion-Sort\n",
        "Insertion sort is a simple sorting algorithm that builds the final sorted array (or list) one item at a time. It is much less efficient on large lists than more advanced algorithms such as quicksort, heapsort, or merge sort."
      ]
    },
    {
      "cell_type": "code",
      "execution_count": 4,
      "metadata": {
        "id": "O9RrQmLlXycz"
      },
      "outputs": [],
      "source": [
        "def InsertionSort(List):\n",
        "    for index in range(1, len(List)):\n",
        "        key = List[index]\n",
        "        previous = index - 1\n",
        "\n",
        "        while previous >=0 and key < List[previous]:\n",
        "            List[previous + 1] = List[previous]\n",
        "            previous = previous - 1\n",
        "        \n",
        "        List[previous + 1] = key\n",
        "    \n",
        "    return List"
      ]
    },
    {
      "cell_type": "markdown",
      "metadata": {
        "id": "0sbU4WpYYO6M"
      },
      "source": [
        "## Merge-Sort\n",
        "Merge-Sort is a sorting algorithm based on the notion of divide-and-conquer. Divide-and-conquer is named as such because input is divided into smaller portions, each portion is solved and then recombined to solve the original problem. In this module both iterative and recursive versions are present. "
      ]
    },
    {
      "cell_type": "code",
      "execution_count": 5,
      "metadata": {
        "id": "bDJUGnycZ95o"
      },
      "outputs": [],
      "source": [
        "##Merge for Recursive Merge Sort\n",
        "def Merge(List, l, m, r):\n",
        "   n1 = m-l+1\n",
        "   n2 = r-m\n",
        "\n",
        "   left = [0]*n1\n",
        "   right = [0]*n2\n",
        "\n",
        "   for i in range(0, n1):\n",
        "       left[i] = List[i+l]\n",
        "\n",
        "   for i in range(0, n2):\n",
        "       right[i] = List[i+1+m]\n",
        "\n",
        "   i = 0\n",
        "   j = 0\n",
        "   k = l\n",
        "\n",
        "   while i < n1 and j < n2:\n",
        "       if left[i] < right[j]:\n",
        "           List[k] = left[i];\n",
        "           i += 1\n",
        "       else:\n",
        "           List[k] = right[j]\n",
        "           j += 1\n",
        "       k += 1\n",
        "\n",
        "   while i < n1:\n",
        "       List[k] = left[i]\n",
        "       k += 1\n",
        "       i += 1\n",
        "   while j < n2:\n",
        "       List[k] = right[j]\n",
        "       k += 1\n",
        "       j += 1\n",
        "\n",
        "\n",
        "\n",
        "def MergeSort(List, left, right):\n",
        "  if left < right:\n",
        "     middle = (left + right)//2\n",
        "     MergeSort(List, left, middle)\n",
        "     MergeSort(List, middle+1, right)\n",
        "     Merge(List, left, middle, right)\n",
        "\n",
        "##Iterative MergeSort\n",
        "def MergeSortI(a):\n",
        "   current_size = 1\n",
        "   # traversing subarrays\n",
        "   while current_size < len(a) - 1:\n",
        "      left = 0\n",
        "      # subarray being sorted\n",
        "      while left < len(a)-1:\n",
        "         # calculating mid value\n",
        "         mid = left + current_size - 1\n",
        "         # current_size\n",
        "         right = ((2 * current_size + left - 1, len(a) - 1)[2 * current_size + left - 1 > len(a)-1])\n",
        "         # Merge\n",
        "         Merge(a, left, mid, right)\n",
        "         left = left + current_size*2\n",
        "      # Increasing sub array size\n",
        "      current_size = 2 * current_size"
      ]
    },
    {
      "cell_type": "markdown",
      "metadata": {
        "id": "kV130imMaILt"
      },
      "source": [
        "## Heap\n",
        "A Heap is a binary tree that stores keys at interal nodes and satisfies the following parameters:\n",
        "1. For every internal node 'x' other than the root, the value stored in 'x' is greater than the value stored in its parent.\n",
        "2. If 'h' is the height of the tree, for i = (0..h-1) there are 2^i nodes at depth i.\n",
        "3. At depth h-1 the internal nodes are left of those external and the last node of the heap is farthest right.\n",
        "\n",
        "## Heapsort [vector based, and insert one item at a time]\n",
        "Heapsort is much faster than quadratic sorting algorithms such as insertion-sort, and can sort an array of n items at a complexity of O(nlogn). "
      ]
    },
    {
      "cell_type": "code",
      "execution_count": 6,
      "metadata": {
        "id": "SCtBJbPiogjK"
      },
      "outputs": [],
      "source": [
        "##DownHeap Recursive\n",
        "def DownHeap(List, i, n):\n",
        "  left = 2*i + 1\n",
        "  right = 2*i + 2\n",
        "  j = i\n",
        "  if (left < n) and (List[left] > List[i]):\n",
        "    i = left\n",
        "  if (right < n) and (List[right] > List[i]):\n",
        "    i = right\n",
        "  if i != j:\n",
        "    List[i], List[j] = List[j], List[i]\n",
        "    DownHeap(List, i, n)\n",
        "\n",
        "##DownHeap Iterative\n",
        "def DownHeapR(List, i, n):\n",
        "  done = False\n",
        "\n",
        "  while not done:\n",
        "    smallest = i\n",
        "    left = 2*i + 1\n",
        "    right = 2*i + 2\n",
        "\n",
        "    if left < n and List[left] < List[i]:\n",
        "      smallest = left\n",
        "    else:\n",
        "      smallest = i\n",
        "    if right < n and List[right] < List[smallest]:\n",
        "      smallest = right\n",
        "\n",
        "    if smallest != i:\n",
        "      List[i], List[smallest] = List[smallest], List[i]\n",
        "      i = smallest\n",
        "    else:\n",
        "      done = True\n",
        "\n",
        "##HeapSort Recursive      \n",
        "def HeapSort(List, left, right):\n",
        "  n = len(List)\n",
        "  for i in range(n//2, -1, -1):\n",
        "    DownHeap(List, i, n)\n",
        "\n",
        "  for i in range(n-1, 0, -1):\n",
        "    List[i], List[0] = List[0], List[i]\n",
        "    DownHeap(List, 0, i)\n",
        "\n",
        "##HeapSort Iterative\n",
        "def HeapSortI(List, left, right):\n",
        "  n = len(List)\n",
        "  for i in range(n//2, -1, -1):\n",
        "    DownHeap(List, i, n)\n",
        "\n",
        "  for i in range(n-1, 0, -1):\n",
        "    List[i], List[0] = List[0], List[i]\n",
        "    DownHeap(List, 0, i)"
      ]
    },
    {
      "cell_type": "markdown",
      "source": [
        "#Quick Sort\n",
        "Quick Sort is a randomized sorting algorithm based on the notion of divide and conquer. First the data is divided by picking a random pivot element and recursively/iteratively sorting the remaing data in groups either greater or less than the pivot element. Finally the sorting is conquered when the two groups are joined back together."
      ],
      "metadata": {
        "id": "_l_B1hUsQvcn"
      }
    },
    {
      "cell_type": "code",
      "execution_count": 7,
      "metadata": {
        "id": "U_gioL4_sPZt"
      },
      "outputs": [],
      "source": [
        "def Partition(List, left, right):\n",
        "  pivot = List[right]\n",
        "  i = left - 1\n",
        "  for j in range(left, right):\n",
        "    if List[j] <= pivot:\n",
        "      i = i + 1\n",
        "      (List[i], List[j]) = (List[j], List[i])\n",
        "  (List[i + 1], List[right]) = (List[right], List[i + 1])\n",
        "  return i + 1\n",
        "\n",
        "##QuickSort Recursive\n",
        "def QuickSort(List, left, right):\n",
        "  if left < right:\n",
        "    p = Partition(List, left, right)\n",
        "    QuickSort(List, left, p-1)\n",
        "    QuickSort(List, p, right)\n",
        "\n",
        "##QuickSort Iterative\n",
        "def QuickSortI(List, left, right):\n",
        "  n = right - left + 1\n",
        "  temp = [0] * n\n",
        "\n",
        "  l = -1\n",
        "\n",
        "  l += 1\n",
        "  temp[l] = left\n",
        "  l += 1\n",
        "  temp[l] = right\n",
        "\n",
        "  while l >= 0:\n",
        "\n",
        "    right = temp[l]\n",
        "    l -= 1\n",
        "    left = temp[l]\n",
        "    l -= 1\n",
        "\n",
        "    p = Partition(List, left, right)\n",
        "\n",
        "    if p-1 > left:\n",
        "      l += 1\n",
        "      temp[l] = left\n",
        "      l += 1\n",
        "      temp[l] = p-1\n",
        "\n",
        "    if p + 1 < right:\n",
        "      l += 1\n",
        "      temp[l] = p+1\n",
        "      l += 1\n",
        "      temp[l] = right\n"
      ]
    },
    {
      "cell_type": "markdown",
      "source": [
        "##Modified Quick Sort (Median of Three)\n",
        "This method takes the left right and median values and completes the divide and conquer method as demonstrated above. "
      ],
      "metadata": {
        "id": "p1l-VQrSRnZ-"
      }
    },
    {
      "cell_type": "code",
      "execution_count": 8,
      "metadata": {
        "id": "FcUdFw-7xWLQ"
      },
      "outputs": [],
      "source": [
        "def Median(List, left, right, mid):\n",
        "  l = List[left]\n",
        "  m = List[mid]\n",
        "  r = List[right]\n",
        "\n",
        "  if l <= m <= r:\n",
        "    return m, mid\n",
        "  if r <= m <= l:\n",
        "    return m, mid\n",
        "  if l <= r <= m:\n",
        "    return r, right\n",
        "  if m <= r <= l:\n",
        "    return r, right\n",
        "  return l, left\n",
        "\n",
        "def modPartition(List, left, right):\n",
        "  pivot, x = Median(List, left, right, (left+right)//2)\n",
        "  i = left + 1\n",
        "  j = right\n",
        "\n",
        "  while i < j:\n",
        "    while i <= right and List[i] <= pivot:\n",
        "      i += 1\n",
        "    while j >= 0 and List[j] > pivot:\n",
        "      j -= 1\n",
        "\n",
        "    if i < j:\n",
        "      List[i], List[j] = List[j], List[i]\n",
        "\n",
        "    else:\n",
        "      List[j], List[x] = pivot, List[j]\n",
        "  return j\n",
        "\n",
        "#Recursive Modified Quick Sort\n",
        "def modQuickSort(List, left, right):\n",
        "  if left < right: \n",
        "    if (left -1) > 8:\n",
        "      p = modPartition(List, left, right)\n",
        "      QuickSort(List, left, p-1)\n",
        "      QuickSort(List, p+1, right)\n",
        "\n",
        "    else:\n",
        "      for i in range(left+1, right+1):\n",
        "        key = List[i]\n",
        "        j = i - 1\n",
        "\n",
        "        while j >= left and List[j] > key:\n",
        "          List[j+1] = List[j]\n",
        "          j -= 1\n",
        "\n",
        "        List[j+1] = key\n",
        "#Iterative Modified Quick Sort\n",
        "def modQuickSortI(List, left, right):\n",
        "  if left < right: \n",
        "    if (right -1) > 8:\n",
        "      p = modPartition(List, left, right)\n",
        "      QuickSortI(List, left, p-1)\n",
        "      QuickSortI(List, p+1, right)\n",
        "\n",
        "    else:\n",
        "      InsertionSort(List)"
      ]
    },
    {
      "cell_type": "markdown",
      "source": [
        "##Time Complexity\n",
        "The following arrays are generated to hold run time values of different iterations and sizes. "
      ],
      "metadata": {
        "id": "fKmcza2JFXjE"
      }
    },
    {
      "cell_type": "code",
      "execution_count": 9,
      "metadata": {
        "id": "GbuCx6sZ1Nhw"
      },
      "outputs": [],
      "source": [
        "isTime = []\n",
        "msTime = []\n",
        "hsTime = []\n",
        "qsTime = []\n",
        "mqsTime = []\n",
        "\n",
        "isTimeS = []\n",
        "msTimeS = []\n",
        "hsTimeS = []\n",
        "qsTimeS = []\n",
        "mqsTimeS = []\n",
        "\n",
        "isTimeR = []\n",
        "msTimeR = []\n",
        "hsTimeR = []\n",
        "qsTimeR = []\n",
        "mqsTimeR = []"
      ]
    },
    {
      "cell_type": "markdown",
      "source": [
        "##The Test\n",
        "This module runs each algorithm 5 times on each value. It then takes the average time for each value and holds in an array for visualization after. All algorithms are tested on a set of different size arrays in unsorted, sorted and reverse sorted orders."
      ],
      "metadata": {
        "id": "WBa_gDQGSip2"
      }
    },
    {
      "cell_type": "code",
      "execution_count": 10,
      "metadata": {
        "id": "B-p8CrTq4B9o"
      },
      "outputs": [],
      "source": [
        "i = 0\n",
        "for d in Data:\n",
        "    ##Unsorted iterations of each Algorithm\n",
        "    t=0\n",
        "    for i in range(5):\n",
        "        test = d\n",
        "        start = time.time()\n",
        "        InsertionSort(test)\n",
        "        end = time.time()\n",
        "        t += end - start\n",
        "    t = t/5\n",
        "    isTime.append(t)\n",
        "\n",
        "    t = 0 \n",
        "    for i in range(5):\n",
        "        test = d\n",
        "        start = time.time()\n",
        "        left = 0\n",
        "        right = len(test) - 1\n",
        "        MergeSort(test, left, right)\n",
        "        end = time.time()\n",
        "        t += end - start\n",
        "    t = t/5\n",
        "    msTime.append(t)\n",
        "\n",
        "    t=0\n",
        "    for i in range(5):\n",
        "        test = d\n",
        "        start = time.time()\n",
        "        HeapSortI(test, 0, len(test)-1)\n",
        "        end = time.time()\n",
        "        t += end - start\n",
        "    t = t/5\n",
        "    hsTime.append(t)\n",
        "\n",
        "    t=0\n",
        "    for i in range(5):\n",
        "        test = d\n",
        "        start = time.time()\n",
        "        QuickSortI(test, 0, len(test)-1)\n",
        "        end = time.time()\n",
        "        t += end - start\n",
        "    t = t/5\n",
        "    qsTime.append(t)\n",
        "\n",
        "    t=0\n",
        "    for i in range(5):\n",
        "        test = d\n",
        "        start = time.time()\n",
        "        modQuickSortI(test, 0, len(test)-1)\n",
        "        end = time.time()\n",
        "        t += end - start\n",
        "    t = t/5\n",
        "    mqsTime.append(t)\n",
        "\n",
        "    ##Sorted Iterations of each Algorithm\n",
        "    t=0\n",
        "    for i in range(5):\n",
        "        sorted = test\n",
        "        start = time.perf_counter()\n",
        "        InsertionSort(sorted)\n",
        "        end = time.perf_counter()\n",
        "        t += end - start\n",
        "    t = t/5\n",
        "    isTimeS.append(t)\n",
        "\n",
        "    t=0\n",
        "    for i in range(5):\n",
        "        sorted = test\n",
        "        start = time.time()\n",
        "        left = 0\n",
        "        right = len(sorted) - 1\n",
        "        MergeSort(sorted, left, right)\n",
        "        end = time.time()\n",
        "        t += end - start\n",
        "    t = t/5\n",
        "    msTimeS.append(t)\n",
        "\n",
        "    t=0\n",
        "    for i in range(5):\n",
        "        sorted = test\n",
        "        start = time.time()\n",
        "        HeapSortI(sorted, 0, len(sorted)-1)\n",
        "        end = time.time()\n",
        "        t += end - start\n",
        "    t = t/5\n",
        "    hsTimeS.append(t)\n",
        "\n",
        "    t=0\n",
        "    for i in range(5):\n",
        "        sorted = test\n",
        "        start = time.time()\n",
        "        QuickSortI(sorted, 0, len(sorted)-1)\n",
        "        end = time.time()\n",
        "        t += end - start\n",
        "    t = t/5\n",
        "    qsTimeS.append(t)\n",
        "\n",
        "    t=0\n",
        "    for i in range(5):\n",
        "        sorted = test\n",
        "        start = time.time()\n",
        "        modQuickSortI(sorted, 0, len(sorted)-1)\n",
        "        end = time.time()\n",
        "        t += end - start\n",
        "    t = t/5\n",
        "    mqsTimeS.append(t)\n",
        "\n",
        "    ##Reversed Iterations of each Algorithm\n",
        "    t=0        \n",
        "    for i in range(5):\n",
        "        sorted.reverse()\n",
        "        reversed = sorted\n",
        "        start = time.time()\n",
        "        InsertionSort(reversed)\n",
        "        end = time.time()\n",
        "        t += end - start\n",
        "    t = t/5\n",
        "    isTimeR.append(t)\n",
        "\n",
        "    t=0\n",
        "    for i in range(5):\n",
        "        reversed = sorted\n",
        "        start = time.time()\n",
        "        left = 0\n",
        "        right = len(reversed) - 1\n",
        "        MergeSort(reversed, left, right)\n",
        "        end = time.time()\n",
        "        t += end - start\n",
        "    t = t/5\n",
        "    msTimeR.append(t)\n",
        "\n",
        "    t=0\n",
        "    for i in range(5):\n",
        "        reversed = sorted\n",
        "        start = time.time()\n",
        "        HeapSort(reversed,  0, len(reversed)-1)\n",
        "        end = time.time()\n",
        "        t += end - start\n",
        "    t = t/5\n",
        "    hsTimeR.append(t)\n",
        "\n",
        "    t=0\n",
        "    for i in range(5):\n",
        "        reversed = sorted\n",
        "        start = time.time()\n",
        "        QuickSortI(reversed, 0, len(reversed)-1)\n",
        "        end = time.time()\n",
        "        t += end - start\n",
        "    t = t/5\n",
        "    qsTimeR.append(t)\n",
        "\n",
        "    t=0\n",
        "    for i in range(5):\n",
        "        reversed = sorted\n",
        "        start = time.time()\n",
        "        modQuickSortI(reversed, 0, len(reversed)-1)\n",
        "        end = time.time()\n",
        "        t += end - start\n",
        "    t = t/5\n",
        "    mqsTimeR.append(t)\n",
        "    i += 1\n"
      ]
    },
    {
      "cell_type": "markdown",
      "source": [
        "##Data Visualization"
      ],
      "metadata": {
        "id": "osLaTzYNSWjc"
      }
    },
    {
      "cell_type": "code",
      "execution_count": 12,
      "metadata": {
        "colab": {
          "base_uri": "https://localhost:8080/",
          "height": 851
        },
        "id": "u2o5HFmb9pbt",
        "outputId": "65a91b7d-e6ca-4a3d-be25-7cc84aa6737c"
      },
      "outputs": [
        {
          "output_type": "display_data",
          "data": {
            "image/png": "[encoded data removed]",
            "text/plain": [
              "<Figure size 432x288 with 1 Axes>"
            ]
          },
          "metadata": {
            "needs_background": "light"
          }
        },
        {
          "output_type": "display_data",
          "data": {
            "image/png": "[encoded data removed]",
            "text/plain": [
              "<Figure size 432x288 with 1 Axes>"
            ]
          },
          "metadata": {
            "needs_background": "light"
          }
        },
        {
          "output_type": "display_data",
          "data": {
            "image/png": "[encoded data removed]",
            "text/plain": [
              "<Figure size 432x288 with 1 Axes>"
            ]
          },
          "metadata": {
            "needs_background": "light"
          }
        }
      ],
      "source": [
        "plt.plot(data, isTime, \"r\", label = 'Insertion Sort')\n",
        "plt.plot(data, msTime, \"g\", label = 'Merge Sort')\n",
        "plt.plot(data, hsTime, \"b\", label = 'Heap Sort')\n",
        "plt.plot(data, qsTime, \"y\", label = 'Quick Sort')\n",
        "plt.plot(data, mqsTime, \"m\", label = 'Modified Quick Sort')\n",
        "plt.title(\"Numbers are randomaly generated\")\n",
        "plt.xlabel(\"Number of elements\")\n",
        "plt.ylabel(\"Time taken by Algorithms\")\n",
        "plt.legend()\n",
        "plt.show()\n",
        "\n",
        "plt.plot(data, isTimeS, \"r\", label = 'Insertion Sort')\n",
        "plt.plot(data, msTimeS, \"g\", label = 'Merge Sort')\n",
        "plt.plot(data, hsTimeS, \"b\", label = 'Heap Sort')\n",
        "plt.plot(data, qsTimeS, \"y\", label = 'Quick Sort')\n",
        "plt.plot(data, mqsTimeS, \"m\", label = 'Modified Quick Sort')\n",
        "plt.title(\"Numbers are Sorted\")\n",
        "plt.xlabel(\"Number of elements\")\n",
        "plt.ylabel(\"Time taken by Algorithms\")\n",
        "plt.legend()\n",
        "plt.show()\n",
        "\n",
        "plt.plot(data, isTimeR, \"r\", label = 'Insertion Sort')\n",
        "plt.plot(data, msTimeR, \"g\", label = 'Merge Sort')\n",
        "plt.plot(data, hsTimeR, \"b\", label = 'Heap Sort')\n",
        "plt.plot(data, qsTimeR, \"y\", label = 'Quick Sort')\n",
        "plt.plot(data, mqsTimeR, \"m\", label = 'Quick Sort')\n",
        "plt.title(\"Numbers are Sorted in reverse order\")\n",
        "plt.xlabel(\"Number of elements\")\n",
        "plt.ylabel(\"Time taken by Algorithms\")\n",
        "plt.legend()\n",
        "plt.show()"
      ]
    }
  ],
  "metadata": {
    "colab": {
      "collapsed_sections": [],
      "name": "ComparisonBasedSortingAlgorithms.ipynb",
      "provenance": []
    },
    "kernelspec": {
      "display_name": "Python 3",
      "language": "python",
      "name": "python3"
    },
    "language_info": {
      "codemirror_mode": {
        "name": "ipython",
        "version": 3
      },
      "file_extension": ".py",
      "mimetype": "text/x-python",
      "name": "python",
      "nbconvert_exporter": "python",
      "pygments_lexer": "ipython3",
      "version": "3.8.8"
    }
  },
  "nbformat": 4,
  "nbformat_minor": 0
}